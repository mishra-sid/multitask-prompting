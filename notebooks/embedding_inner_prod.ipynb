{
 "cells": [
  {
   "cell_type": "code",
   "execution_count": 1,
   "metadata": {},
   "outputs": [
    {
     "name": "stderr",
     "output_type": "stream",
     "text": [
      "Some weights of the model checkpoint at bert-base-cased were not used when initializing BertForMaskedLM: ['cls.seq_relationship.weight', 'cls.seq_relationship.bias']\n",
      "- This IS expected if you are initializing BertForMaskedLM from the checkpoint of a model trained on another task or with another architecture (e.g. initializing a BertForSequenceClassification model from a BertForPreTraining model).\n",
      "- This IS NOT expected if you are initializing BertForMaskedLM from the checkpoint of a model that you expect to be exactly identical (initializing a BertForSequenceClassification model from a BertForSequenceClassification model).\n",
      "Using custom data configuration default\n",
      "Reusing dataset nlu_evaluation_data (/home/sid/.cache/huggingface/datasets/nlu_evaluation_data/default/1.1.0/0416a5876d8240bd571f2bc2ad421cf6e6e88d938f8dcb5fd87b5af6033d6282)\n"
     ]
    },
    {
     "data": {
      "application/vnd.jupyter.widget-view+json": {
       "model_id": "a158850279734b698bf53769db435dad",
       "version_major": 2,
       "version_minor": 0
      },
      "text/plain": [
       "  0%|          | 0/26 [00:00<?, ?ba/s]"
      ]
     },
     "metadata": {},
     "output_type": "display_data"
    },
    {
     "data": {
      "application/vnd.jupyter.widget-view+json": {
       "model_id": "6807bd40d9984935b11625996fa8ad1b",
       "version_major": 2,
       "version_minor": 0
      },
      "text/plain": [
       "Downloading:   0%|          | 0.00/28.0 [00:00<?, ?B/s]"
      ]
     },
     "metadata": {},
     "output_type": "display_data"
    },
    {
     "data": {
      "application/vnd.jupyter.widget-view+json": {
       "model_id": "e981d78d9e724c7f94a2b1fc51d0c23e",
       "version_major": 2,
       "version_minor": 0
      },
      "text/plain": [
       "Downloading:   0%|          | 0.00/226k [00:00<?, ?B/s]"
      ]
     },
     "metadata": {},
     "output_type": "display_data"
    },
    {
     "data": {
      "application/vnd.jupyter.widget-view+json": {
       "model_id": "25bff6991d1a4674a47f8dbdfef0291c",
       "version_major": 2,
       "version_minor": 0
      },
      "text/plain": [
       "Downloading:   0%|          | 0.00/455k [00:00<?, ?B/s]"
      ]
     },
     "metadata": {},
     "output_type": "display_data"
    },
    {
     "data": {
      "application/vnd.jupyter.widget-view+json": {
       "model_id": "10d03309d28640e8b3f4f5ce903ae2c1",
       "version_major": 2,
       "version_minor": 0
      },
      "text/plain": [
       "Downloading:   0%|          | 0.00/570 [00:00<?, ?B/s]"
      ]
     },
     "metadata": {},
     "output_type": "display_data"
    },
    {
     "data": {
      "application/vnd.jupyter.widget-view+json": {
       "model_id": "ea2ccf97af014148b31c99b6055fa8cd",
       "version_major": 2,
       "version_minor": 0
      },
      "text/plain": [
       "Downloading:   0%|          | 0.00/420M [00:00<?, ?B/s]"
      ]
     },
     "metadata": {},
     "output_type": "display_data"
    },
    {
     "name": "stderr",
     "output_type": "stream",
     "text": [
      "Some weights of the model checkpoint at bert-base-uncased were not used when initializing BertModel: ['cls.predictions.transform.LayerNorm.bias', 'cls.predictions.transform.LayerNorm.weight', 'cls.predictions.transform.dense.weight', 'cls.seq_relationship.weight', 'cls.predictions.transform.dense.bias', 'cls.predictions.decoder.weight', 'cls.predictions.bias', 'cls.seq_relationship.bias']\n",
      "- This IS expected if you are initializing BertModel from the checkpoint of a model trained on another task or with another architecture (e.g. initializing a BertForSequenceClassification model from a BertForPreTraining model).\n",
      "- This IS NOT expected if you are initializing BertModel from the checkpoint of a model that you expect to be exactly identical (initializing a BertForSequenceClassification model from a BertForSequenceClassification model).\n",
      "Some weights of the model checkpoint at bert-base-uncased were not used when initializing BertModel: ['cls.predictions.transform.LayerNorm.bias', 'cls.predictions.transform.LayerNorm.weight', 'cls.predictions.transform.dense.weight', 'cls.seq_relationship.weight', 'cls.predictions.transform.dense.bias', 'cls.predictions.decoder.weight', 'cls.predictions.bias', 'cls.seq_relationship.bias']\n",
      "- This IS expected if you are initializing BertModel from the checkpoint of a model trained on another task or with another architecture (e.g. initializing a BertForSequenceClassification model from a BertForPreTraining model).\n",
      "- This IS NOT expected if you are initializing BertModel from the checkpoint of a model that you expect to be exactly identical (initializing a BertForSequenceClassification model from a BertForSequenceClassification model).\n"
     ]
    },
    {
     "name": "stdout",
     "output_type": "stream",
     "text": [
      "173.63988\n",
      "177.25735\n"
     ]
    }
   ],
   "source": [
    "from transformers import pipeline\n",
    "unmasker = pipeline('fill-mask', model='bert-base-cased')\n",
    "\n",
    "import numpy as np\n",
    "import torch\n",
    "from datasets import load_dataset\n",
    "from datasets.arrow_dataset import concatenate_datasets\n",
    "\n",
    "data_set = load_dataset(\"nlu_evaluation_data\",split='train')\n",
    "\n",
    "data_alarm_audio= data_set.filter(lambda example: example['scenario'] == 'alarm' or example['scenario'] == 'audio')\n",
    "\n",
    "from transformers import BertModel, BertTokenizer\n",
    "model_name = 'bert-base-uncased'\n",
    "labels = [\"alarm_query\",\"alarm_remove\",\"alarm_set\",\"audio_volume_down\",\"audio_volume_mute\",\"audio_volume_other\",\"audio_volume_up\"]\n",
    "\n",
    "def createEmbeddings(input):\n",
    "  tokenizer = BertTokenizer.from_pretrained(model_name)\n",
    "  # load\n",
    "  embedding_rep = {}\n",
    "  model = BertModel.from_pretrained(model_name)\n",
    "  for i in input :\n",
    "      input_text = i\n",
    "      input_ids = tokenizer.encode(input_text, add_special_tokens=True)\n",
    "      input_ids = torch.tensor([input_ids])\n",
    "      embedding_rep[i] = model(input_ids).last_hidden_state\n",
    "  return embedding_rep\n",
    "\n",
    "labels = [\"alarm_query\",\"alarm_remove\",\"alarm_set\",\"audio_volume_down\",\"audio_volume_mute\",\"audio_volume_other\",\"audio_volume_up\"]\n",
    "\n",
    "label_embeddings = createEmbeddings(labels)\n",
    "\n",
    "label_embeddings[\"alarm_remove\"].shape\n",
    "\n",
    "input_text=[]\n",
    "for entry in data_alarm_audio:\n",
    "  input_text.append(entry[\"text\"])\n",
    "\n",
    "input_text[0]\n",
    "\n",
    "sentence_embeddings = createEmbeddings(input_text)\n",
    "\n",
    "sentence_embeddings[\"wake me up at five am this week\"].shape\n",
    "\n",
    "def doCross(label_embedd,sentence_embedd):\n",
    "  return np.dot(label_embedd,sentence_embedd)\n",
    "\n",
    "ex1 = sentence_embeddings[\"wake me up at five am this week\"][:, 0:1,:].detach().numpy()\n",
    "ex2_1 = label_embeddings[\"alarm_query\"][:, 0:1,:].detach().numpy()\n",
    "ex2_2 = label_embeddings[\"alarm_set\"][:, 0:1,:].detach().numpy()\n",
    "\n",
    "print(doCross(np.squeeze(np.asarray(ex1)),np.squeeze(np.asarray(ex2_1))))\n",
    "\n",
    "print(doCross(np.squeeze(np.asarray(ex1)),np.squeeze(np.asarray(ex2_2))))"
   ]
  }
 ],
 "metadata": {
  "interpreter": {
   "hash": "8b9a2d448f6f5570c572280912f28598c5037f393e09d0c1c0b04c8b3d79c852"
  },
  "kernelspec": {
   "display_name": "Python 3.9.7 ('research')",
   "language": "python",
   "name": "python3"
  },
  "language_info": {
   "codemirror_mode": {
    "name": "ipython",
    "version": 3
   },
   "file_extension": ".py",
   "mimetype": "text/x-python",
   "name": "python",
   "nbconvert_exporter": "python",
   "pygments_lexer": "ipython3",
   "version": "3.9.7"
  },
  "orig_nbformat": 4
 },
 "nbformat": 4,
 "nbformat_minor": 2
}
