{
 "cells": [
  {
   "cell_type": "code",
   "execution_count": 1,
   "id": "fifth-failing",
   "metadata": {},
   "outputs": [
    {
     "name": "stderr",
     "output_type": "stream",
     "text": [
      "Using custom data configuration default\n",
      "Reusing dataset nlu_evaluation_data (/home/sid/.cache/huggingface/datasets/nlu_evaluation_data/default/1.1.0/0416a5876d8240bd571f2bc2ad421cf6e6e88d938f8dcb5fd87b5af6033d6282)\n",
      "Loading cached shuffled indices for dataset at /home/sid/.cache/huggingface/datasets/nlu_evaluation_data/default/1.1.0/0416a5876d8240bd571f2bc2ad421cf6e6e88d938f8dcb5fd87b5af6033d6282/cache-ea2cd470d1f78acb.arrow\n"
     ]
    },
    {
     "name": "stdout",
     "output_type": "stream",
     "text": [
      "cuda\n"
     ]
    }
   ],
   "source": [
    "import torch\n",
    "device  = \"cuda\" if torch.cuda.is_available() else \"cpu\"\n",
    "\n",
    "from datasets import load_dataset\n",
    "\n",
    "data_set = load_dataset(\"nlu_evaluation_data\",split='train')\n",
    "data_set = data_set.shuffle(seed=42)\n",
    "\n",
    "labels = data_set.features[\"label\"].names\n",
    "num_labels = len(labels)\n",
    "\n",
    "print(device)"
   ]
  },
  {
   "cell_type": "code",
   "execution_count": 2,
   "id": "separated-spotlight",
   "metadata": {},
   "outputs": [
    {
     "name": "stderr",
     "output_type": "stream",
     "text": [
      "Some weights of the model checkpoint at bert-base-cased were not used when initializing BertForSequenceClassification: ['cls.seq_relationship.bias', 'cls.predictions.bias', 'cls.predictions.transform.dense.bias', 'cls.predictions.decoder.weight', 'cls.seq_relationship.weight', 'cls.predictions.transform.dense.weight', 'cls.predictions.transform.LayerNorm.weight', 'cls.predictions.transform.LayerNorm.bias']\n",
      "- This IS expected if you are initializing BertForSequenceClassification from the checkpoint of a model trained on another task or with another architecture (e.g. initializing a BertForSequenceClassification model from a BertForPreTraining model).\n",
      "- This IS NOT expected if you are initializing BertForSequenceClassification from the checkpoint of a model that you expect to be exactly identical (initializing a BertForSequenceClassification model from a BertForSequenceClassification model).\n",
      "Some weights of BertForSequenceClassification were not initialized from the model checkpoint at bert-base-cased and are newly initialized: ['classifier.weight', 'classifier.bias']\n",
      "You should probably TRAIN this model on a down-stream task to be able to use it for predictions and inference.\n",
      "Loading cached processed dataset at /home/sid/.cache/huggingface/datasets/nlu_evaluation_data/default/1.1.0/0416a5876d8240bd571f2bc2ad421cf6e6e88d938f8dcb5fd87b5af6033d6282/cache-0ae84e6fac99976c.arrow\n"
     ]
    }
   ],
   "source": [
    "from transformers import AutoTokenizer, AutoModelForSequenceClassification\n",
    "tokenizer = AutoTokenizer.from_pretrained(\"bert-base-cased\")\n",
    "model = AutoModelForSequenceClassification.from_pretrained(\"bert-base-cased\", num_labels=num_labels).to(device)\n",
    "def tokenize_function(examples):\n",
    "    return tokenizer(examples[\"text\"], padding=\"max_length\", max_length=42, truncation=True, return_tensors=\"pt\")\n",
    "\n",
    "data_set = data_set.map(tokenize_function)\n",
    "data_set = data_set.rename_column(\"label\", \"labels\")\n",
    "data_set.set_format('torch', columns=[\"input_ids\", \"token_type_ids\", \"attention_mask\", \"labels\"])\n",
    "train_valid_test = data_set.train_test_split(test_size=0.2)\n",
    "train_valid = train_valid_test['train'].train_test_split(test_size=0.2)\n",
    "\n",
    "train_data =  train_valid['train']\n",
    "valid_data = train_valid['test']\n",
    "test_data = train_valid_test['test']\n"
   ]
  },
  {
   "cell_type": "code",
   "execution_count": 3,
   "id": "medical-marathon",
   "metadata": {},
   "outputs": [],
   "source": [
    "import numpy as np\n",
    "from datasets import load_metric\n",
    "metric = load_metric(\"accuracy\")\n",
    "\n",
    "def compute_metrics(eval_pred):\n",
    "    logits, labels = eval_pred\n",
    "    predictions = np.argmax(logits, axis=-1)\n",
    "    return metric.compute(predictions=predictions, references=labels)"
   ]
  },
  {
   "cell_type": "code",
   "execution_count": 4,
   "id": "other-sellers",
   "metadata": {},
   "outputs": [
    {
     "name": "stderr",
     "output_type": "stream",
     "text": [
      "/home/sid/miniconda3/envs/research/lib/python3.9/site-packages/transformers/optimization.py:306: FutureWarning: This implementation of AdamW is deprecated and will be removed in a future version. Use the PyTorch implementation torch.optim.AdamW instead, or set `no_deprecation_warning=True` to disable this warning\n",
      "  warnings.warn(\n"
     ]
    }
   ],
   "source": [
    "from transformers import AdamW\n",
    "\n",
    "optimizer = AdamW(model.parameters(), lr=5e-5)\n",
    "from transformers import get_scheduler\n",
    "\n",
    "num_epochs = 3\n",
    "num_training_steps = num_epochs * len(train_data)\n",
    "lr_scheduler = get_scheduler(\n",
    "    \"linear\",\n",
    "    optimizer=optimizer,\n",
    "    num_warmup_steps=0,\n",
    "    num_training_steps=num_training_steps,\n",
    ")\n",
    "train_dataloader = torch.utils.data.DataLoader(train_data, batch_size=4)\n",
    "eval_dataloader = torch.utils.data.DataLoader(valid_data, batch_size=4)\n"
   ]
  },
  {
   "cell_type": "code",
   "execution_count": 8,
   "id": "through-shirt",
   "metadata": {},
   "outputs": [
    {
     "name": "stdout",
     "output_type": "stream",
     "text": [
      "{'accuracy': 0.8690157958687728}\n"
     ]
    }
   ],
   "source": [
    "from datasets import load_metric\n",
    "\n",
    "def evaluate():\n",
    "    metric = load_metric(\"accuracy\")\n",
    "    model.eval()\n",
    "    for batch in eval_dataloader:\n",
    "        gbatch = {}\n",
    "        for k, v in batch.items():\n",
    "            if k in [\"input_ids\", \"token_type_ids\", \"attention_mask\"]:\n",
    "                gbatch[k] = v[0].to(device)\n",
    "            elif k == \"labels\":\n",
    "                gbatch[k] = v.to(device) \n",
    "\n",
    "        \n",
    "        with torch.no_grad():\n",
    "            outputs = model(**gbatch)\n",
    "\n",
    "        logits = outputs.logits\n",
    "        predictions = torch.argmax(logits, dim=-1)\n",
    "        metric.add_batch(predictions=predictions, references=batch[\"labels\"])\n",
    "\n",
    "    print(metric.compute())\n",
    "evaluate()"
   ]
  },
  {
   "cell_type": "code",
   "execution_count": 6,
   "id": "fundamental-tuning",
   "metadata": {},
   "outputs": [
    {
     "name": "stderr",
     "output_type": "stream",
     "text": [
      " 25%|██▌       | 12345/49371 [19:00<52:53, 11.67it/s]  "
     ]
    }
   ],
   "source": [
    "from tqdm.auto import tqdm\n",
    "\n",
    "progress_bar = tqdm(range(num_training_steps))\n",
    "\n",
    "model.train()\n",
    "for epoch in range(num_epochs):\n",
    "    for batch in train_dataloader:\n",
    "        gbatch = {}\n",
    "        for k, v in batch.items():\n",
    "            if k in [\"input_ids\", \"token_type_ids\", \"attention_mask\"]:\n",
    "                gbatch[k] = v[0].to(device)\n",
    "            elif k == \"labels\":\n",
    "                gbatch[k] = v.to(device) \n",
    "        outputs = model(**gbatch)\n",
    "        loss = outputs.loss\n",
    "        loss.backward()\n",
    "\n",
    "        optimizer.step()\n",
    "        lr_scheduler.step()\n",
    "        optimizer.zero_grad()\n",
    "        progress_bar.update(1)\n",
    "    evaluate()"
   ]
  }
 ],
 "metadata": {
  "interpreter": {
   "hash": "8b9a2d448f6f5570c572280912f28598c5037f393e09d0c1c0b04c8b3d79c852"
  },
  "kernelspec": {
   "display_name": "Python [conda env:miniconda3-research]",
   "language": "python",
   "name": "python3"
  },
  "language_info": {
   "codemirror_mode": {
    "name": "ipython",
    "version": 3
   },
   "file_extension": ".py",
   "mimetype": "text/x-python",
   "name": "python",
   "nbconvert_exporter": "python",
   "pygments_lexer": "ipython3",
   "version": "3.9.7"
  }
 },
 "nbformat": 4,
 "nbformat_minor": 5
}
